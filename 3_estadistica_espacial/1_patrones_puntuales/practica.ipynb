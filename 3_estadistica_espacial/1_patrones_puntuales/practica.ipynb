{
 "cells": [
  {
   "cell_type": "markdown",
   "metadata": {},
   "source": [
    "Por: Fernando Gómez Perera\n",
    "\n",
    "El objetivo de esta práctica es explorar implementaciones de las funciones K y L para analizar patrones puntuales."
   ]
  },
  {
   "cell_type": "code",
   "execution_count": 1,
   "metadata": {},
   "outputs": [],
   "source": [
    "pacman::p_load(GISTools, spatstat, sf, maptools, install = FALSE, update = FALSE)"
   ]
  },
  {
   "cell_type": "markdown",
   "metadata": {},
   "source": [
    "El conjunto de datos a usar contiene la geolocalización de eventos denominados *breach of peace* o *alteración del orden* en la ciudad de New Haven, Connecticut, en EUA."
   ]
  },
  {
   "cell_type": "code",
   "execution_count": 2,
   "metadata": {},
   "outputs": [
    {
     "data": {
      "application/geo+json": {
       "features": [
        {
         "geometry": {
          "coordinates": [
           551419.4943,
           181266.3096
          ],
          "type": "Point"
         },
         "properties": {
          "dat": 1
         },
         "type": "Feature"
        },
        {
         "geometry": {
          "coordinates": [
           556319.5231,
           177580.7457
          ],
          "type": "Point"
         },
         "properties": {
          "dat": 2
         },
         "type": "Feature"
        },
        {
         "geometry": {
          "coordinates": [
           551423.0911,
           172304.4746
          ],
          "type": "Point"
         },
         "properties": {
          "dat": 3
         },
         "type": "Feature"
        },
        {
         "geometry": {
          "coordinates": [
           550261.9432,
           182613.2022
          ],
          "type": "Point"
         },
         "properties": {
          "dat": 4
         },
         "type": "Feature"
        },
        {
         "geometry": {
          "coordinates": [
           555168.4898,
           172163.3893
          ],
          "type": "Point"
         },
         "properties": {
          "dat": 5
         },
         "type": "Feature"
        },
        {
         "geometry": {
          "coordinates": [
           549133.6134,
           169623.5651
          ],
          "type": "Point"
         },
         "properties": {
          "dat": 6
         },
         "type": "Feature"
        }
       ],
       "name": "file706826932528",
       "type": "FeatureCollection"
      },
      "text/plain": [
       "SpatialPoints:\n",
       "         Long      Lat\n",
       "[1,] 551419.5 181266.3\n",
       "[2,] 556319.5 177580.7\n",
       "[3,] 551423.1 172304.5\n",
       "[4,] 550261.9 182613.2\n",
       "[5,] 555168.5 172163.4\n",
       "[6,] 549133.6 169623.6\n",
       "Coordinate Reference System (CRS) arguments: +proj=lcc +datum=NAD27\n",
       "+lon_0=-72d45 +lat_1=41d52 +lat_2=41d12 +lat_0=40d50\n",
       "+x_0=182880.3657607315 +y_0=0 +units=us-ft +no_defs +ellps=clrk66\n",
       "+nadgrids=@conus,@alaska,@ntv2_0.gsb,@ntv1_can.dat "
      ]
     },
     "metadata": {},
     "output_type": "display_data"
    }
   ],
   "source": [
    "data(newhaven)\n",
    "head(breach)"
   ]
  },
  {
   "cell_type": "markdown",
   "metadata": {},
   "source": [
    "Este conjunto de datos usa como Sistema de Coordenadas de Referencia (CRS) el datum *NAD27* (North American Datum of 1927), y su unidad de medida se encuentra en pies de EUA.\n",
    "\n",
    "Los eventos se visualizan en la siguiente gráfica, junto con el mapa de New Haven para entender su comportamiento."
   ]
  },
  {
   "cell_type": "code",
   "execution_count": 3,
   "metadata": {},
   "outputs": [
    {
     "data": {
      "image/png": "[encoded data removed]",
      "text/plain": [
       "plot without title"
      ]
     },
     "metadata": {
      "image/png": {
       "height": 420,
       "width": 420
      },
      "text/plain": {
       "height": 420,
       "width": 420
      }
     },
     "output_type": "display_data"
    }
   ],
   "source": [
    "plot(blocks)\n",
    "plot(breach, pch = 16, col = \"red\", add = TRUE)"
   ]
  },
  {
   "cell_type": "markdown",
   "metadata": {},
   "source": [
    "Graficando solamente las coordenadas, se visualiza la dispersión que tienen los datos. Como los datos se encuentran en pies de EUA, las coordenadas tienen valores muy grandes.\n",
    "\n",
    "Visualizar los datos de esta forma es de suma importancia, pues así será posible definir de mejor forma los valores de las variables que se usarán para calcular las funciones."
   ]
  },
  {
   "cell_type": "code",
   "execution_count": 4,
   "metadata": {},
   "outputs": [
    {
     "data": {
      "image/png": "[encoded data removed]",
      "text/plain": [
       "plot without title"
      ]
     },
     "metadata": {
      "image/png": {
       "height": 420,
       "width": 420
      },
      "text/plain": {
       "height": 420,
       "width": 420
      }
     },
     "output_type": "display_data"
    }
   ],
   "source": [
    "plot(breach@coords)"
   ]
  },
  {
   "cell_type": "markdown",
   "metadata": {},
   "source": [
    "# Evaluación de la función K\n",
    "\n",
    "Con esta función se busca identificar si un conjunto de puntos forman un grupo denso o si estos se encuentran uniformemente dispersos. Si se encuentran uniformemente dispersos, entonces no sería posible identificar una región que fuera más afectada por los eventos.\n",
    "\n",
    "La función K proviene de las siguientes ecuaciones:\n",
    "\n",
    "> * La **intensidad** de eventos se define como:\n",
    "> $$\\lambda = \\frac{N}{A}$$\n",
    "> donde $N$ es el total de puntos y $A$ el área del rectángulo sobre el que están distribuidos.\n",
    "\n",
    "> * El valor esperado de eventos en una región circular de radio $r$ se define como:\n",
    "> $$E(r) = \\lambda \\times \\pi  r^2$$\n",
    "> siempre y cuando el circulo se encuentre dentro del rectángulo.\n",
    "\n",
    "Finalmente, la función K, para una distribución cualquiera de eventos, se define como:\n",
    "\n",
    "$$K(r) = \\frac{E(r)}{\\lambda}$$\n",
    "\n",
    "La cual es evaluada tomando la distancia Euclideana entre cada par de puntos dentro del radio de la región circular de la siguiente forma:\n",
    "\n",
    "$$K(r) = \\frac{E(r)}{\\lambda} \\approx \\lambda^{-1}\\frac{\\sum_i\\sum_{j\\neq i} I(d_{ij} < r)}{n}$$\n",
    "\n",
    "donde $d_{ij}$ es la distancia entre los puntos $x_i$ y $x_j$, la cual se evalúa usando la *función indicador*:\n",
    "\n",
    "$$I(d_{ij} < r) \n",
    "\\begin{cases}\n",
    "    1, & \\text{ Si } d_{ij} < r \\\\\n",
    "    0, & \\text{ en caso contrario}\\\\\n",
    "\\end{cases}\n",
    "$$\n",
    "\n",
    "y $n = N$.\n",
    "\n",
    "De la gráfica de dispersión, se concluye que un valor adecuado de $r$ podría ser de 500 pies, y que el valor de $A$ se puede calcular usando los límites del rectángulo que se forma tomando los puntos extremos del conjunto de datos (también conocido como *bbox*).\n",
    "\n",
    "## Implementación manual\n",
    "\n",
    "La implementación manual de la función K arroja la siguiente gráfica:"
   ]
  },
  {
   "cell_type": "code",
   "execution_count": 5,
   "metadata": {},
   "outputs": [
    {
     "data": {
      "image/png": "[encoded data removed]",
      "text/plain": [
       "plot without title"
      ]
     },
     "metadata": {
      "image/png": {
       "height": 420,
       "width": 420
      },
      "text/plain": {
       "height": 420,
       "width": 420
      }
     },
     "output_type": "display_data"
    }
   ],
   "source": [
    "breach_sf <- st_as_sfc(breach)\n",
    "\n",
    "# Evaluación manual de la función K\n",
    "coords <- st_coordinates(breach_sf)\n",
    "N <- nrow(coords)\n",
    "# Tomando el área que existe entre los puntos\n",
    "A <- breach_sf %>%\n",
    "        st_bbox() %>%\n",
    "        st_as_sfc() %>%\n",
    "        st_area()\n",
    "lambda <- N / A\n",
    "n <- N\n",
    "d <- as.matrix(dist(coords))\n",
    "\n",
    "r_seq <- seq(0, 500, 0.01)\n",
    "\n",
    "K_r <- c()\n",
    "\n",
    "for (r in r_seq) {\n",
    "    num <- sum(d < r) - N\n",
    "    K_r <- append(K_r, num / (lambda * n))\n",
    "}\n",
    "\n",
    "plot(r_seq, K_r, type = \"n\", ylim = c(0, 6000000))\n",
    "lines(r_seq[-1], K_r[-1], col = \"blue\")\n",
    "lines(r_seq, pi * r_seq^2, col = \"red\")"
   ]
  },
  {
   "cell_type": "markdown",
   "metadata": {},
   "source": [
    "## Implementación usando *spatstat*\n",
    "\n",
    "Usando la función de la librería *spatstat*, se obtiene la siguiente gráfica:"
   ]
  },
  {
   "cell_type": "code",
   "execution_count": 6,
   "metadata": {},
   "outputs": [
    {
     "data": {
      "image/png": "[encoded data removed]",
      "text/plain": [
       "Plot with title \"kf\""
      ]
     },
     "metadata": {
      "image/png": {
       "height": 420,
       "width": 420
      },
      "text/plain": {
       "height": 420,
       "width": 420
      }
     },
     "output_type": "display_data"
    }
   ],
   "source": [
    "point_pattern <- as.ppp(breach)\n",
    "kf <- Kest(point_pattern, correction = \"border\", rmax = 500)\n",
    "plot(kf)"
   ]
  },
  {
   "cell_type": "markdown",
   "metadata": {},
   "source": [
    "## Resultados\n",
    "\n",
    "Ambas gráficas tienen el mismo comportamiento; de hecho, a simple vista son iguales.\n",
    "\n",
    "Ambas tienen resultados de la función K mayores a los resultados obtenidos usando valores provenientes de una distribución uniforme. Esto se traduce a que la función K revela la existencia de clústeres de eventos dentro del conjunto de datos.\n",
    "\n",
    "# Evaluación de la función L\n",
    "\n",
    "Es una transfomación de la función K que permite corregir el incremento de varianza que sufre dicha función conforme el valor de $r$ aumenta, pues mientras el tamaño de los círculos aumenta, también aumenta la varianza entre el número de puntos esperados dentro del círculo.\n",
    "\n",
    "La transformación que sufre la funcion K usando la función L es la siguiente:\n",
    "\n",
    "$$L(r) = \\sqrt{\\frac{K(r)}{\\pi}}$$\n",
    "\n",
    "Como resultado, la gráfica de datos distribuidos uniformemente tendrá como resultado una línea diagonal, mientras que resultados mayores a esta gráfica revelarán la existencia de clústeres dentro del conjunto de datos.\n",
    "\n",
    "## Implementación manual\n",
    "\n",
    "La estructura de esta función es similar a la implemetación manual de la función K."
   ]
  },
  {
   "cell_type": "code",
   "execution_count": 7,
   "metadata": {},
   "outputs": [
    {
     "data": {
      "image/png": "[encoded data removed]",
      "text/plain": [
       "plot without title"
      ]
     },
     "metadata": {
      "image/png": {
       "height": 420,
       "width": 420
      },
      "text/plain": {
       "height": 420,
       "width": 420
      }
     },
     "output_type": "display_data"
    }
   ],
   "source": [
    "# Evaluación manual de la función L\n",
    "coords <- st_coordinates(breach_sf)\n",
    "N <- nrow(coords)\n",
    "# Tomando el área que existe entre los puntos\n",
    "A <- breach_sf %>%\n",
    "        st_bbox() %>%\n",
    "        st_as_sfc() %>%\n",
    "        st_area()\n",
    "lambda <- N / A\n",
    "n <- N\n",
    "d <- as.matrix(dist(coords))\n",
    "\n",
    "r_seq <- seq(0, 500, 0.01)\n",
    "\n",
    "L_r <- c()\n",
    "\n",
    "for (r in r_seq) {\n",
    "    num <- sum(d < r) - N\n",
    "    K_r <- num / (lambda * n)\n",
    "    L_r <- append(L_r, sqrt(K_r / pi))\n",
    "}\n",
    "\n",
    "plot(r_seq, L_r, type = \"n\", ylim = c(0, 1400))\n",
    "lines(r_seq, L_r, col = \"blue\")\n",
    "lines(r_seq, r_seq, col = \"red\")"
   ]
  },
  {
   "cell_type": "markdown",
   "metadata": {},
   "source": [
    "## Implementación usando *spatstat*\n",
    "\n",
    "Usando la función de la librería *spatstat*, se obtiene la siguiente gráfica:"
   ]
  },
  {
   "cell_type": "code",
   "execution_count": 8,
   "metadata": {},
   "outputs": [
    {
     "data": {
      "image/png": "[encoded data removed]",
      "text/plain": [
       "Plot with title \"lf\""
      ]
     },
     "metadata": {
      "image/png": {
       "height": 420,
       "width": 420
      },
      "text/plain": {
       "height": 420,
       "width": 420
      }
     },
     "output_type": "display_data"
    }
   ],
   "source": [
    "lf <- Lest(point_pattern, correction = \"border\", rmax = 500)\n",
    "plot(lf)"
   ]
  },
  {
   "cell_type": "markdown",
   "metadata": {},
   "source": [
    "## Resultados\n",
    "\n",
    "Ambos casos presentan un comportamiento muy similar; de hecho, a simple vista son iguales. El comportamiento es muy parecido al obtenido con la función K, con la diferencia de que los valores de Y se encuentran en un rango menor.\n",
    "\n",
    "Nuevamente, la gráfica que se obtiene como resultado de ambas implementaciones de la función L es mayor que la gráfica obtenida con datos distribuidos uniformemente. Esto confirma finalmente la existencia de clústeres de eventos dentro del conjunto de datos.\n",
    "\n",
    "# Referencias\n",
    "GeoDa Software. (2016). *Point Pattern Analysis: K, L and Kd Functions*. Recuperado el 02 de mayo del 2020.\n",
    "    Disponible en: https://youtu.be/oT_jMTkkld8"
   ]
  }
 ],
 "metadata": {
  "kernelspec": {
   "display_name": "R",
   "language": "R",
   "name": "ir"
  },
  "language_info": {
   "codemirror_mode": "r",
   "file_extension": ".r",
   "mimetype": "text/x-r-source",
   "name": "R",
   "pygments_lexer": "r",
   "version": "3.6.3"
  }
 },
 "nbformat": 4,
 "nbformat_minor": 4
}
